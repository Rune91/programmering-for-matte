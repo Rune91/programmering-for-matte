{
 "cells": [
  {
   "cell_type": "markdown",
   "metadata": {},
   "source": [
    "# Introduksjon\n",
    "\n",
    "Du skal lære å programmere i Python! I hvert fall nok til å løse eksamensoppgavene som du får i ditt mattefag.\n",
    "\n",
    "Python er et **programmeringsspråk**. Du skriver kommandorer som datamaskinen utfører. Datamaskinen leser kommandoene fra øverst, og jobber nedover.\n",
    "\n",
    "I vinduet nedenfor er det en **kode** til venstre. Trykk på ▶️ Run-knappen. Til høyre dukker **output** fra programmet opp.\n",
    "\n",
    "<iframe src=\"https://trinket.io/embed/python3/70b3ae02aa40\" width=\"100%\" height=\"356\" frameborder=\"0\" marginwidth=\"0\" marginheight=\"0\" allowfullscreen></iframe>\n",
    "\n",
    "```{admonition} Oppgave\n",
    ":class: tip\n",
    "Slett alle linjene kode i vinduet ovenfor. Bytt ut med koden nedenfor (og legg inn ditt eget navn). Kjør koden.  \n",
    "Gratulerer, du har laget ditt første Python-program!\n",
    "\n",
    "```{code-block} Python\n",
    "navn = \"Rune\"\n",
    "print(\"Jeg heter\", navn, \"og er klar til å lære programmering!\")\n",
    "```\n",
    "\n",
    "Hold denne siden åpen når du går videre, slik at du kan skrive og kjøre kode i vinduet."
   ]
  }
 ],
 "metadata": {
  "kernelspec": {
   "display_name": "Python 3",
   "language": "python",
   "name": "python3"
  },
  "language_info": {
   "codemirror_mode": {
    "name": "ipython",
    "version": 3
   },
   "file_extension": ".py",
   "mimetype": "text/x-python",
   "name": "python",
   "nbconvert_exporter": "python",
   "pygments_lexer": "ipython3",
   "version": "3.8.0"
  },
  "widgets": {
   "application/vnd.jupyter.widget-state+json": {
    "state": {},
    "version_major": 2,
    "version_minor": 0
   }
  }
 },
 "nbformat": 4,
 "nbformat_minor": 4
}
