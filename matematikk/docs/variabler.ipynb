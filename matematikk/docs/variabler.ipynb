{
 "cells": [
  {
   "cell_type": "markdown",
   "metadata": {},
   "source": [
    "# Variabler\n",
    "\n",
    "## Opprette variabler\n",
    "\n",
    "En variabel er et navn som inneholder en verdi. Navnet kan være én bokstav eller et helt ord."
   ]
  },
  {
   "cell_type": "code",
   "execution_count": null,
   "metadata": {},
   "outputs": [],
   "source": [
    "navn = \"Rune\"\n",
    "alder = 34\n",
    "høyde = 1.77\n",
    "\n",
    "print(navn)\n",
    "print(alder)\n",
    "print(høyde)"
   ]
  },
  {
   "cell_type": "markdown",
   "metadata": {},
   "source": [
    "```{admonition} Underveisoppgave\n",
    ":class: tip\n",
    "Kopier koden ovenfor. Bytt ut innholdet med det som passer deg. Kjør koden og se på **output** til høyre.\n",
    "```"
   ]
  },
  {
   "cell_type": "markdown",
   "metadata": {},
   "source": [
    "Vi kan regne ut verdier til variabler også:"
   ]
  },
  {
   "cell_type": "code",
   "execution_count": null,
   "metadata": {},
   "outputs": [],
   "source": [
    "a = 10\n",
    "b = 7\n",
    "c = a + b\n",
    "\n",
    "print(a)\n",
    "print(b)\n",
    "print(c)"
   ]
  },
  {
   "cell_type": "markdown",
   "metadata": {},
   "source": [
    "Vi kan endre verdien på variabler. `print()` på slutten av programmet viser bare verdiene variablene har etter at hele programmet er ferdig. Det vil si at bare de siste versjonene av variablene vises der."
   ]
  },
  {
   "cell_type": "code",
   "execution_count": null,
   "metadata": {
    "vscode": {
     "languageId": "plaintext"
    }
   },
   "outputs": [],
   "source": [
    "x = 10\n",
    "y = x - 1\n",
    "x = 13"
   ]
  },
  {
   "cell_type": "markdown",
   "metadata": {},
   "source": [
    "```{admonition} Underveisoppgave\n",
    ":class: tip\n",
    "Hva tror du output viser for programmet ovenfor?\n",
    "Kopier koden. Legg til `print(x)` og `print(y)` nederst og kjør programmet.\n",
    "```"
   ]
  },
  {
   "cell_type": "markdown",
   "metadata": {},
   "source": [
    "```{admonition} Forklaring\n",
    ":class: caution, dropdown\n",
    "x vises som 13. x var 10 i starten av programmet, men endres til å være 13 før programmet er ferdig.  \n",
    "\n",
    "y vises som 9. Når y opprettes bruker den verdien av x som er 10 på det tidspunktet. Selv om x endres etterpå, påvirker det ikke verdien av y.\n",
    "```"
   ]
  },
  {
   "cell_type": "markdown",
   "metadata": {},
   "source": [
    "## Gjøre utregninger\n",
    "\n",
    "Vi brukes disse tegnene i utregninger:\n",
    "\n",
    "|Tegn | Forklaring |\n",
    "|---------|------------|\n",
    "| + | Pluss (a + b) |\n",
    "| - | Minus (a - b) |\n",
    "| * |Ganging (a\\*b) |\n",
    "| / | Deling (a/b) |\n",
    "| ** | Eksponent (a\\*\\*b) |\n",
    "\n",
    "## Oppgaver\n",
    "\n",
    "```{admonition} Oppgaver\n",
    ":class: tip\n",
    "1. Opprett variablene. Skriv dem ut med `print()` Kjør programmet og se resultatet i output-vinduet.  \n",
    "    a. Opprett en variabel `x` som regner 13 pluss 7  \n",
    "    b. Opprett en variable `y` som er 360 delt på 4  \n",
    "    c. Opprett en variable `z` som er 4 opphøyd i 3  \n",
    "    d. Opprett en variabel `k` som er: $k = \\dfrac{1}{4} * 5^{9-7}$ (riktig svar på denne skal bli $6.25$)\n",
    "```\n",
    "\n",
    "```{admonition} Løsningsforslag Oppgave 1a\n",
    ":class: caution, dropdown\n",
    "\n",
    "```{code-block} Python\n",
    "x = 13+7\n",
    "print(x)\n",
    "```"
   ]
  }
 ],
 "metadata": {
  "kernelspec": {
   "display_name": "Python 3",
   "language": "python",
   "name": "python3"
  },
  "language_info": {
   "codemirror_mode": {
    "name": "ipython",
    "version": 3
   },
   "file_extension": ".py",
   "mimetype": "text/x-python",
   "name": "python",
   "nbconvert_exporter": "python",
   "pygments_lexer": "ipython3",
   "version": "3.8.0"
  },
  "widgets": {
   "application/vnd.jupyter.widget-state+json": {
    "state": {},
    "version_major": 2,
    "version_minor": 0
   }
  }
 },
 "nbformat": 4,
 "nbformat_minor": 4
}
