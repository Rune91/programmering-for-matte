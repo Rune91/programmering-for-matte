{
 "cells": [
  {
   "cell_type": "markdown",
   "metadata": {},
   "source": [
    "# For-løkker\n",
    "\n",
    "\n",
    "## Hva er for-løkker?\n",
    "\n",
    "Løkker brukes til å gjenta kode flere ganger. Vi bruker **for-løkker** når vi bestemmer selv hvor mange ganger vi ønsker å gjenta koden.\n"
   ]
  },
  {
   "cell_type": "code",
   "execution_count": 1,
   "metadata": {},
   "outputs": [
    {
     "name": "stdout",
     "output_type": "stream",
     "text": [
      "Nå starter løkka...\n",
      "10\n",
      "11\n",
      "12\n",
      "13\n",
      "14\n",
      "Nå er løkka ferdig!\n"
     ]
    }
   ],
   "source": [
    "print(\"Nå starter løkka...\")\n",
    "\n",
    "for tall in range(10, 15):\n",
    "    print(tall)\n",
    "\n",
    "print(\"Nå er løkka ferdig!\")"
   ]
  },
  {
   "cell_type": "markdown",
   "metadata": {},
   "source": [
    "Programmet over lager en for-løkke:\n",
    " - Løkka oppretter en variabel `tall`\n",
    " - `tall` går **fra 10 til 15**\n",
    " - verdien av `tall` endres for hver \"runde\" av løkka\n",
    " - verdien av `tall` printes ut i hver runde\n",
    "\n",
    "Legg merke til at sluttpunktet til løkka (15) **ikke** blir med på output. Slik er det alltid."
   ]
  },
  {
   "cell_type": "markdown",
   "metadata": {},
   "source": [
    "```{admonition} Underveisoppgave\n",
    ":class: tip\n",
    "Endre koden ovenfor slik at den går fra 0 til 100. Kjør programmet.\n",
    "```"
   ]
  },
  {
   "cell_type": "code",
   "execution_count": 3,
   "metadata": {},
   "outputs": [
    {
     "name": "stdout",
     "output_type": "stream",
     "text": [
      "Nå er totalen 1\n",
      "Nå er totalen 3\n",
      "Nå er totalen 6\n",
      "Nå er totalen 10\n",
      "Nå er totalen 15\n",
      "Nå er totalen 21\n",
      "Nå er totalen 28\n",
      "Nå er totalen 36\n",
      "Nå er totalen 45\n"
     ]
    }
   ],
   "source": [
    "total = 0\n",
    "\n",
    "for tall in range(1, 10):\n",
    "    total = total + tall\n",
    "    print(\"Nå er totalen\", total)"
   ]
  },
  {
   "cell_type": "markdown",
   "metadata": {},
   "source": [
    "```{admonition} Hva skjer?\n",
    ":class: warning, dropdown\n",
    "programmet starter med at `total` er 0. Inne i løkka **økes** verdien av total ved å plusse på tallet. Linja `total = total + tall` regner først ut `total + tall` (som er 0 + 1 i første runde), og så lagrer den svaret i `total`. I neste runde er `tall` 2, slik at `total + tall` er `1 + 2` (som blir 3).\n",
    "\n",
    "```"
   ]
  },
  {
   "cell_type": "markdown",
   "metadata": {},
   "source": [
    "## For-løkker i eksamensoppgaver\n",
    "\n",
    "Det er veldig vanlig med for-løkker i eksamensoppgaver. Koden nedenfor regner ut hvor mye penger du har i banken de 10 neste årene. En rentefot på $1.05$ tilsvarer en rente på $5\\%$."
   ]
  },
  {
   "cell_type": "code",
   "execution_count": 9,
   "metadata": {},
   "outputs": [
    {
     "name": "stdout",
     "output_type": "stream",
     "text": [
      "Etter 1 år har jeg 1050 kr i banken\n",
      "Etter 2 år har jeg 1102 kr i banken\n",
      "Etter 3 år har jeg 1158 kr i banken\n",
      "Etter 4 år har jeg 1216 kr i banken\n",
      "Etter 5 år har jeg 1276 kr i banken\n",
      "Etter 6 år har jeg 1340 kr i banken\n",
      "Etter 7 år har jeg 1407 kr i banken\n",
      "Etter 8 år har jeg 1477 kr i banken\n",
      "Etter 9 år har jeg 1551 kr i banken\n",
      "Nå er løkka ferdig og pengesummen er 1551\n"
     ]
    }
   ],
   "source": [
    "penger = 1000\n",
    "rentefot = 1.05\n",
    "\n",
    "for år in range(1, 10):\n",
    "    penger = penger * rentefot\n",
    "    print(\"Etter\", år, \"år har jeg\", round(penger), \"kr i banken\")\n",
    "\n",
    "print(\"Nå er løkka ferdig og pengesummen er\", round(penger))"
   ]
  },
  {
   "cell_type": "markdown",
   "metadata": {},
   "source": [
    "La oss analysere programmet over:\n",
    " - Du setter 1000kr i banken med 5% årlig rente\n",
    " - `for år in range(1, 10):` lager en for-løkke som teller fra 1 til 10 år fremover\n",
    " - `penger * rentefot` regner ut hvor mye penger du har etter at du får 5% rente\n",
    " - `penger = ...` tar resultatet fra utregningen og lagrer det i variabelen `penger`. Vi **oppdaterer** verdien av `penger` med ny verdi.\n",
    " - Siden verdien av variabelen `penger` oppdateres i hver runde av for-løkka, blir den bare større og større\n",
    " - `round(penger)` runder av verdien av `penger` til et helt tall"
   ]
  },
  {
   "cell_type": "markdown",
   "metadata": {},
   "source": [
    "## Oppgaver\n",
    "\n",
    "`````{admonition} Oppgaver\n",
    ":class: tip\n",
    "1. Lag en for-løkke som teller fra 1 til 20. Pass på at 20 blir som output.  \n",
    "2. Lag en for-løkke som plusser sammen alle tallene mellom 1 og 20. (Hint: lag en variabel `total` som starter med verdien 0)  \n",
    "3. Utvid eksempelet med penger i banken. Du skal legge til inne i for-løkka at du setter inn 200kr ekstra innskudd hvert år.  \n",
    "4. Hva kommer programmet nedenfor til å printe ut? Tenk først, så kjør programmet.  \n",
    "\n",
    "```{code-block} Python\n",
    "snø = 15\n",
    "\n",
    "for dager in range(0, 5):\n",
    "    snø = snø + 4\n",
    "\n",
    "print(\"Mengde snø:\", snø, \"cm\")\n",
    "```\n",
    "\n",
    "`````"
   ]
  },
  {
   "cell_type": "markdown",
   "metadata": {},
   "source": [
    "`````{admonition} Løsningsforslag oppgave 2\n",
    ":class: warning, dropdown\n",
    "```{code-block} Python\n",
    "total = 0\n",
    "\n",
    "for tall in range(1, 21):\n",
    "    total = total + tall\n",
    "\n",
    "print(\"Totalen er\", total)\n",
    "```\n",
    "\n",
    "`````"
   ]
  },
  {
   "cell_type": "markdown",
   "metadata": {},
   "source": [
    "`````{admonition} Oppgaver\n",
    "\n",
    "`````"
   ]
  }
 ],
 "metadata": {
  "kernelspec": {
   "display_name": ".venv",
   "language": "python",
   "name": "python3"
  },
  "language_info": {
   "codemirror_mode": {
    "name": "ipython",
    "version": 3
   },
   "file_extension": ".py",
   "mimetype": "text/x-python",
   "name": "python",
   "nbconvert_exporter": "python",
   "pygments_lexer": "ipython3",
   "version": "3.12.4"
  },
  "widgets": {
   "application/vnd.jupyter.widget-state+json": {
    "state": {},
    "version_major": 2,
    "version_minor": 0
   }
  }
 },
 "nbformat": 4,
 "nbformat_minor": 4
}
