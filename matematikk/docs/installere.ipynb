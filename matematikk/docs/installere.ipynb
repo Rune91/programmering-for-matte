{
 "cells": [
  {
   "cell_type": "markdown",
   "metadata": {},
   "source": [
    "# Installere Python\n",
    "\n",
    "Du kan installere Python på din egen PC. Da har du tilgang til Python selv om du ikke har internett.  \n",
    "\n",
    "Jeg anbefaler [Thonny](https://thonny.org/)\n",
    "\n",
    "Du kan også bruke Spyder i [Anaconda](https://www.anaconda.com/download/success), men denne tar mye mer plass på din maskin."
   ]
  }
 ],
 "metadata": {
  "language_info": {
   "name": "python"
  }
 },
 "nbformat": 4,
 "nbformat_minor": 2
}
