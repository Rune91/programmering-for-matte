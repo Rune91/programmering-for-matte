{
 "cells": [
  {
   "cell_type": "markdown",
   "metadata": {},
   "source": [
    "# While-løkker\n",
    "\n",
    "## Hva er en while-løkke?\n",
    "While er en annen type løkke. Vi bruker **while-løkker** når vi ikke vet hvor mange ganger løkka skal gjenta seg.\n",
    "\n",
    "While-løkker bruker en sammenligning for å vite hvor lenge den skal kjøre. I programmet nedenfor er sammenligningen `x < 5`. Dvs: løkka gjentar seg så lenge x er mindre enn 5.\n"
   ]
  },
  {
   "cell_type": "code",
   "execution_count": 2,
   "metadata": {},
   "outputs": [
    {
     "name": "stdout",
     "output_type": "stream",
     "text": [
      "Nå starter løkka...\n",
      "0\n",
      "1\n",
      "2\n",
      "3\n",
      "4\n",
      "Nå er løkka ferdig! x er 5\n"
     ]
    }
   ],
   "source": [
    "x = 0\n",
    "\n",
    "print(\"Nå starter løkka. x er\", x)\n",
    "\n",
    "while x < 5:\n",
    "    print(x)\n",
    "    x = x + 1\n",
    "\n",
    "print(\"Nå er løkka ferdig! x er\", x)"
   ]
  },
  {
   "cell_type": "markdown",
   "metadata": {},
   "source": [
    "```{admonition} Underveisoppgave\n",
    ":class: tip\n",
    "Endre koden ovenfor. La x starte med verdien 10. La løkka fortsette så lenge x er **mindre eller lik** 20.\n",
    "```"
   ]
  },
  {
   "cell_type": "markdown",
   "metadata": {},
   "source": [
    "Liste over sammenligninger:\n",
    "\n",
    "| Symbol    | Betydning |\n",
    "| :--------: | ------- |\n",
    "| <  | mindre enn |\n",
    "| > | større enn|\n",
    "| <=    | mindre eller lik |\n",
    "| >=    | større eller lik |\n",
    "| ==    | er lik |\n",
    "| !=    | ulik|"
   ]
  },
  {
   "cell_type": "markdown",
   "metadata": {},
   "source": [
    "## While-løkker i eksamensoppgaver\n",
    "\n",
    "Det er veldig med while-løkker i eksamensoppgaver også. Koden nedenfor regner ut hvor mange år Pernille må spare for å nå sitt mål på 3000kr."
   ]
  },
  {
   "cell_type": "code",
   "execution_count": 4,
   "metadata": {},
   "outputs": [
    {
     "name": "stdout",
     "output_type": "stream",
     "text": [
      "Etter 8 år har Pernille spart 3116 kr\n"
     ]
    }
   ],
   "source": [
    "penger = 2000\n",
    "rentefot = 1.057\n",
    "år = 0\n",
    "\n",
    "while penger < 3000:\n",
    "    penger = penger * rentefot\n",
    "    år = år + 1\n",
    "\n",
    "print(\"Etter\", år, \"år har Pernille spart\", round(penger), \"kr\")\n",
    "\n"
   ]
  },
  {
   "cell_type": "markdown",
   "metadata": {},
   "source": [
    "La oss analysere programmet over:\n",
    "- Pernille setter 2000kr i banken med $5.7\\%$ årlig rente\n",
    "- `while penger < 3000:` lager en while-løkke som fortsetter så lenge `penger` er mindre enn 3000\n",
    "- `penger = penger * rentefot` øker verdien av variabelen `penger` ved å gange den gamle verdien med rentefoten. Dette tilsvarer å få ett års mengde rente.\n",
    "- `år = år + 1` øker verdien av variabelen `år` med én, slik at vi kan holde greie på hvor mange år det har gått."
   ]
  },
  {
   "cell_type": "markdown",
   "metadata": {},
   "source": [
    "## Oppgaver\n",
    "\n",
    "`````{admonition} Oppgaver\n",
    ":class: tip\n",
    "1. Lag en variabel `årstall` som har verdien 2025. Lag en while-løkke som fortsetter så lenge årstall er mindre enn 2040. Inne i while-løkka skal du øke verdien av `årstall` med én og printe ut den nye verdien.  \n",
    "2. Programmet nedenfor har **to feil**. Fiks det slik at det fungerer.\n",
    "\n",
    "```{code-block} Python\n",
    "while a < 10\n",
    "    print(\"a er\", a)\n",
    "    a = a + 2\n",
    "```\n",
    "3. Lag en variabel som starter med verdien 20. Lag en while-løkke som teller **nedover** til 0 og printer ut variabelen i hvert steg.  \n",
    "4. Hva kommer programmet nedenfor til å gi som output? Tenk først, så kjør.\n",
    "```{code-block} Python\n",
    "x = 5\n",
    "while x > 5:\n",
    "    print(x)\n",
    "    x = x + 1\n",
    "print(\"Nå er løkka ferdig!\")\n",
    "```\n",
    "`````"
   ]
  },
  {
   "cell_type": "markdown",
   "metadata": {},
   "source": [
    "`````{admonition} Løsningsforslag oppgave 3\n",
    ":class: warning, dropdown\n",
    "```{code-block} Python\n",
    "tall = 20\n",
    "while tall > 0:\n",
    "    print(tall)\n",
    "    tall = tall - 1\n",
    "```\n",
    "`````"
   ]
  },
  {
   "cell_type": "markdown",
   "metadata": {},
   "source": [
    "`````{admonition} Oppgaver\n",
    "\n",
    "`````"
   ]
  }
 ],
 "metadata": {
  "kernelspec": {
   "display_name": ".venv",
   "language": "python",
   "name": "python3"
  },
  "language_info": {
   "codemirror_mode": {
    "name": "ipython",
    "version": 3
   },
   "file_extension": ".py",
   "mimetype": "text/x-python",
   "name": "python",
   "nbconvert_exporter": "python",
   "pygments_lexer": "ipython3",
   "version": "3.12.4"
  },
  "widgets": {
   "application/vnd.jupyter.widget-state+json": {
    "state": {},
    "version_major": 2,
    "version_minor": 0
   }
  }
 },
 "nbformat": 4,
 "nbformat_minor": 4
}
