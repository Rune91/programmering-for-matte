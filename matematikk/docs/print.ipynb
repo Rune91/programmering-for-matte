{
 "cells": [
  {
   "cell_type": "markdown",
   "metadata": {},
   "source": [
    "# Print\n",
    "\n",
    "## Skrive setninger med verdier\n",
    "\n",
    "`print()` er en funksjon vi bruker for at programmet skal skrive ut tekst som output. Vi legger merke til at tekst på skrives med `\"hermetegn\"`. Dersom vi benytter variabler slik som i koden nedenfor, kan vi printe ut hele setninger også."
   ]
  },
  {
   "cell_type": "code",
   "execution_count": 2,
   "metadata": {},
   "outputs": [
    {
     "name": "stdout",
     "output_type": "stream",
     "text": [
      "Jeg heter Rune og er 34 år gammel\n"
     ]
    }
   ],
   "source": [
    "navn = \"Rune\"\n",
    "alder = 34\n",
    "høyde = 1.77\n",
    "\n",
    "print(\"Jeg heter\", navn, \"og er\", alder, \"år gammel\")"
   ]
  },
  {
   "cell_type": "markdown",
   "metadata": {},
   "source": [
    "```{admonition} Underveisoppgave\n",
    ":class: tip\n",
    "Kopier koden ovenfor. Endre til verdier som passer deg. Endre `print()`-linja slik at den også skriver ut hvor høy du er.\n",
    "```"
   ]
  },
  {
   "cell_type": "markdown",
   "metadata": {},
   "source": [
    "## Runde av desimaltall\n",
    "\n",
    "Vi bruker funksjonen `round()` for å runde av et tall slik at det ser penere ut."
   ]
  },
  {
   "cell_type": "code",
   "execution_count": 8,
   "metadata": {},
   "outputs": [
    {
     "name": "stdout",
     "output_type": "stream",
     "text": [
      "Uten avrunding: 1.3333333333333333\n",
      "Med ingen desimaler:  1\n",
      "Med to desimaler:  1.33\n"
     ]
    }
   ],
   "source": [
    "tall = 4 / 3\n",
    "\n",
    "print(\"Uten avrunding:\", tall)\n",
    "print(\"Med ingen desimaler: \", round(tall))\n",
    "print(\"Med to desimaler: \", round(tall, 2))"
   ]
  },
  {
   "cell_type": "markdown",
   "metadata": {},
   "source": [
    "## Oppgaver\n",
    "\n",
    "```{admonition} Oppgaver\n",
    ":class: tip\n",
    "1. Lag en variabel som inneholder `13*2-5`. Bruk `print()` til å skrive ut svaret i en setning.  \n",
    "\n",
    "2. Du driver en pizzabutikk som selger én pizza. Lag variablene `pris`, `størrelse` og `topping`.  \n",
    "    a. Bruk `print()` for å skrive ut informasjon om pizzaen i en setning.  \n",
    "    b. Lag variabelen `personer` og sett den til 3. Regn ut hvor mye pizzaen koster per person. Skriv ut med `print()`.  \n",
    "3. Lag tre egenvalgte variabler. Skriv dem ut i en passende setning.\n",
    "```"
   ]
  },
  {
   "cell_type": "markdown",
   "metadata": {},
   "source": [
    "```{admonition} Løsningsforslag Oppgave 1\n",
    ":class: caution, dropdown\n",
    "\n",
    "```{code-block} Python\n",
    "x = 13*2-5\n",
    "print(\"Svaret på 13*2-5 er\", x)\n",
    "```"
   ]
  },
  {
   "cell_type": "markdown",
   "metadata": {},
   "source": [
    "```{admonition} Løsningsforslag Oppgave 2\n",
    ":class: caution, dropdown\n",
    "\n",
    "```{code-block} Python\n",
    "pris = 150\n",
    "størrelse = \"medium\"\n",
    "topping = \"biff og ananas\"\n",
    "\n",
    "print(\"En\", størrelse, \"pizza med\", topping, \"koster\", pris, \"kroner\")\n",
    "\n",
    "personer = 3\n",
    "pris_per_person = pris / personer\n",
    "print(\"Pizzaen koster\", round(pris_per_person, 2), \"kroner per pers\")\n",
    "```"
   ]
  }
 ],
 "metadata": {
  "kernelspec": {
   "display_name": ".venv",
   "language": "python",
   "name": "python3"
  },
  "language_info": {
   "codemirror_mode": {
    "name": "ipython",
    "version": 3
   },
   "file_extension": ".py",
   "mimetype": "text/x-python",
   "name": "python",
   "nbconvert_exporter": "python",
   "pygments_lexer": "ipython3",
   "version": "3.12.4"
  },
  "widgets": {
   "application/vnd.jupyter.widget-state+json": {
    "state": {},
    "version_major": 2,
    "version_minor": 0
   }
  }
 },
 "nbformat": 4,
 "nbformat_minor": 4
}
