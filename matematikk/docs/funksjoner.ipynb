{
 "cells": [
  {
   "cell_type": "markdown",
   "metadata": {},
   "source": [
    "# Funksjoner\n",
    "\n",
    "## Lage og bruke funksjoner\n",
    "\n",
    "En funksjon regner ut en ny verdi, akkurat som i matte. Koden nedenfor definerer funksjonen $f(x) = 2x + 1$. Legg merke til at vi må bruke stikkordene `def` og `return` for å få dette til.\n"
   ]
  },
  {
   "cell_type": "code",
   "execution_count": null,
   "metadata": {},
   "outputs": [],
   "source": [
    "def f(x):\n",
    "    return 2*x + 1"
   ]
  },
  {
   "cell_type": "markdown",
   "metadata": {},
   "source": [
    "Når vi har en funksjon, kan vi bruke den så mange ganger vi vil til å regne ut verdier. "
   ]
  },
  {
   "cell_type": "code",
   "execution_count": 2,
   "metadata": {},
   "outputs": [
    {
     "name": "stdout",
     "output_type": "stream",
     "text": [
      "Verdi 1 er 11\n",
      "Verdi 2 er 27\n",
      "Verdi 3 er 1\n"
     ]
    }
   ],
   "source": [
    "def f(x):\n",
    "    return 2*x + 1\n",
    "\n",
    "verdi1 = f(5)\n",
    "verdi2 = f(13)\n",
    "verdi3 = f(0)\n",
    "\n",
    "print(\"Verdi 1 er\", verdi1)\n",
    "print(\"Verdi 2 er\", verdi2)\n",
    "print(\"Verdi 3 er\", verdi3)"
   ]
  },
  {
   "cell_type": "markdown",
   "metadata": {},
   "source": [
    "```{admonition} Underveisoppgave\n",
    ":class: tip\n",
    "Definer funksjonen $g(x) = 4x-3$. Bruk denne til å regne funksjonsverdiene for $x = 10$ og $x = -5$.\n",
    "```"
   ]
  },
  {
   "cell_type": "markdown",
   "metadata": {},
   "source": [
    "## Eksempler på funksjoner\n",
    "\n",
    "Her er noen vanlige bruksområder for funksjoner på eksamen."
   ]
  },
  {
   "cell_type": "code",
   "execution_count": 7,
   "metadata": {},
   "outputs": [
    {
     "name": "stdout",
     "output_type": "stream",
     "text": [
      "Når x = 3 er K(x) = 7421.8\n"
     ]
    }
   ],
   "source": [
    "# En andregradsfunksjon\n",
    "def K(x):\n",
    "    return 0.2*x**2 + 140*x + 7000\n",
    "\n",
    "print(\"Når x = 3 er K(x) =\", K(3))"
   ]
  },
  {
   "cell_type": "code",
   "execution_count": 8,
   "metadata": {},
   "outputs": [
    {
     "name": "stdout",
     "output_type": "stream",
     "text": [
      "Etter 1 år har 1000 kr blitt til 1035.0 kr\n",
      "Etter 5 år har 1000 kr blitt til 1187.69 kr\n",
      "Etter 20 år har 1000 kr blitt til 1989.79 kr\n"
     ]
    }
   ],
   "source": [
    "# Funksjon for å regne penger i banken\n",
    "# Man setter 1000 kr i banken\n",
    "# Renta er 3.5% (rentefoten er 1.035)\n",
    "def f(x):\n",
    "    return 1000 * 1.035 ** x\n",
    "\n",
    "etter_1_år = f(1)\n",
    "etter_5_år = f(5)\n",
    "etter_20_år = f(20)\n",
    "\n",
    "print(\"Etter 1 år har 1000 kr blitt til\", round(etter_1_år, 2), \"kr\")\n",
    "print(\"Etter 5 år har 1000 kr blitt til\", round(etter_5_år, 2), \"kr\")\n",
    "print(\"Etter 20 år har 1000 kr blitt til\", round(etter_20_år, 2), \"kr\")\n"
   ]
  },
  {
   "cell_type": "markdown",
   "metadata": {},
   "source": [
    "## Oppgaver\n",
    "\n",
    "`````{admonition} Oppgaver\n",
    ":class: tip\n",
    "1. Opprett funksjonen $f(x) = 3x-2$. Regn ut funksjonsverdien når x er 5. Skriv ut med `print()`\n",
    "2. Definer disse funksjonene:  \n",
    "- $f(x) = 2x - 1.5$  \n",
    "- $g(x) = 5x^2 - 3x$  \n",
    "- $h(x) = \\dfrac{1}{3}x + 79$  \n",
    "    a. Regn ut funksjonsverdien av alle når $x = 3$  \n",
    "    b. Regn ut funksjonsverdien av alle når $x = 0.1$  \n",
    "3. Kopier koden nedenfor og kjør den. Den har **fire feil** som gjør at den ikke fungerer! Fiks feilene.\n",
    "\n",
    "```{code-block} Python\n",
    "daff h(x)\n",
    "  rerun 5x - 8\n",
    "\n",
    "print(\"Når x = 3 er h(x) =\", h(3))\n",
    "```\n",
    "\n",
    "4. Hva kommer denne koden til å gi som output? Tenk først, så kjør den etterpå.\n",
    "\n",
    "```{code-block} Python\n",
    "def f1(x):\n",
    "  return x + 3\n",
    "\n",
    "def f2(x):\n",
    "  return 2 * x\n",
    "\n",
    "a = f1(10)\n",
    "b = f2(4)\n",
    "\n",
    "c = a + b\n",
    "\n",
    "print(\"Verdien av c er\", c)\n",
    "```\n",
    "\n",
    "`````"
   ]
  },
  {
   "cell_type": "markdown",
   "metadata": {},
   "source": [
    "`````{admonition} Løsningsforslag oppgave 1\n",
    ":class: warning, dropdown\n",
    "\n",
    "```{code-block} Python\n",
    "def f(x):\n",
    "    return 3*x-2\n",
    "\n",
    "svar = f(5)\n",
    "print(\"Når x = 5 er f(x) = \", svar)\n",
    "```\n",
    "`````"
   ]
  }
 ],
 "metadata": {
  "kernelspec": {
   "display_name": ".venv",
   "language": "python",
   "name": "python3"
  },
  "language_info": {
   "codemirror_mode": {
    "name": "ipython",
    "version": 3
   },
   "file_extension": ".py",
   "mimetype": "text/x-python",
   "name": "python",
   "nbconvert_exporter": "python",
   "pygments_lexer": "ipython3",
   "version": "3.12.4"
  },
  "widgets": {
   "application/vnd.jupyter.widget-state+json": {
    "state": {},
    "version_major": 2,
    "version_minor": 0
   }
  }
 },
 "nbformat": 4,
 "nbformat_minor": 4
}
